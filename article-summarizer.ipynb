{
 "cells": [
  {
   "cell_type": "markdown",
   "metadata": {},
   "source": [
    "# Web Mining and Applied NLP (44-620)\n",
    "\n",
    "## Final Project: Article Summarizer\n",
    "\n",
    "### Student Name: Tiffany \n",
    "\n",
    "#### Repo: https://github.com/Thilde02/article-summarizer-mod7\n",
    "\n",
    "Perform the tasks described in the Markdown cells below.  When you have completed the assignment make sure your code cells have all been run (and have output beneath them) and ensure you have committed and pushed ALL of your changes to your assignment repository.\n",
    "\n",
    "You should bring in code from previous assignments to help you answer the questions below.\n",
    "\n",
    "Every question that requires you to write code will have a code cell underneath it; you may either write your entire solution in that cell or write it in a python file (`.py`), then import and run the appropriate code to answer the question."
   ]
  },
  {
   "cell_type": "code",
   "execution_count": 23,
   "metadata": {},
   "outputs": [
    {
     "name": "stdout",
     "output_type": "stream",
     "text": [
      "Requirement already satisfied: spacy in c:\\users\\tiffa\\appdata\\local\\programs\\python\\python313\\lib\\site-packages (3.8.7)\n",
      "Requirement already satisfied: spacy-legacy<3.1.0,>=3.0.11 in c:\\users\\tiffa\\appdata\\local\\programs\\python\\python313\\lib\\site-packages (from spacy) (3.0.12)\n",
      "Requirement already satisfied: spacy-loggers<2.0.0,>=1.0.0 in c:\\users\\tiffa\\appdata\\local\\programs\\python\\python313\\lib\\site-packages (from spacy) (1.0.5)\n",
      "Requirement already satisfied: murmurhash<1.1.0,>=0.28.0 in c:\\users\\tiffa\\appdata\\local\\programs\\python\\python313\\lib\\site-packages (from spacy) (1.0.13)\n",
      "Requirement already satisfied: cymem<2.1.0,>=2.0.2 in c:\\users\\tiffa\\appdata\\local\\programs\\python\\python313\\lib\\site-packages (from spacy) (2.0.11)\n",
      "Requirement already satisfied: preshed<3.1.0,>=3.0.2 in c:\\users\\tiffa\\appdata\\local\\programs\\python\\python313\\lib\\site-packages (from spacy) (3.0.10)\n",
      "Requirement already satisfied: thinc<8.4.0,>=8.3.4 in c:\\users\\tiffa\\appdata\\local\\programs\\python\\python313\\lib\\site-packages (from spacy) (8.3.6)\n",
      "Requirement already satisfied: wasabi<1.2.0,>=0.9.1 in c:\\users\\tiffa\\appdata\\local\\programs\\python\\python313\\lib\\site-packages (from spacy) (1.1.3)\n",
      "Requirement already satisfied: srsly<3.0.0,>=2.4.3 in c:\\users\\tiffa\\appdata\\local\\programs\\python\\python313\\lib\\site-packages (from spacy) (2.5.1)\n",
      "Requirement already satisfied: catalogue<2.1.0,>=2.0.6 in c:\\users\\tiffa\\appdata\\local\\programs\\python\\python313\\lib\\site-packages (from spacy) (2.0.10)\n",
      "Requirement already satisfied: weasel<0.5.0,>=0.1.0 in c:\\users\\tiffa\\appdata\\local\\programs\\python\\python313\\lib\\site-packages (from spacy) (0.4.1)\n",
      "Requirement already satisfied: typer<1.0.0,>=0.3.0 in c:\\users\\tiffa\\appdata\\local\\programs\\python\\python313\\lib\\site-packages (from spacy) (0.16.0)\n",
      "Requirement already satisfied: tqdm<5.0.0,>=4.38.0 in c:\\users\\tiffa\\appdata\\local\\programs\\python\\python313\\lib\\site-packages (from spacy) (4.67.1)\n",
      "Requirement already satisfied: numpy>=1.19.0 in c:\\users\\tiffa\\appdata\\local\\programs\\python\\python313\\lib\\site-packages (from spacy) (2.1.3)\n",
      "Requirement already satisfied: requests<3.0.0,>=2.13.0 in c:\\users\\tiffa\\appdata\\local\\programs\\python\\python313\\lib\\site-packages (from spacy) (2.32.3)\n",
      "Requirement already satisfied: pydantic!=1.8,!=1.8.1,<3.0.0,>=1.7.4 in c:\\users\\tiffa\\appdata\\local\\programs\\python\\python313\\lib\\site-packages (from spacy) (2.11.7)\n",
      "Requirement already satisfied: jinja2 in c:\\users\\tiffa\\appdata\\local\\programs\\python\\python313\\lib\\site-packages (from spacy) (3.1.5)\n",
      "Requirement already satisfied: setuptools in c:\\users\\tiffa\\appdata\\local\\programs\\python\\python313\\lib\\site-packages (from spacy) (75.4.0)\n",
      "Requirement already satisfied: packaging>=20.0 in c:\\users\\tiffa\\appdata\\local\\programs\\python\\python313\\lib\\site-packages (from spacy) (24.2)\n",
      "Requirement already satisfied: langcodes<4.0.0,>=3.2.0 in c:\\users\\tiffa\\appdata\\local\\programs\\python\\python313\\lib\\site-packages (from spacy) (3.5.0)\n",
      "Requirement already satisfied: language-data>=1.2 in c:\\users\\tiffa\\appdata\\local\\programs\\python\\python313\\lib\\site-packages (from langcodes<4.0.0,>=3.2.0->spacy) (1.3.0)\n",
      "Requirement already satisfied: annotated-types>=0.6.0 in c:\\users\\tiffa\\appdata\\local\\programs\\python\\python313\\lib\\site-packages (from pydantic!=1.8,!=1.8.1,<3.0.0,>=1.7.4->spacy) (0.7.0)\n",
      "Requirement already satisfied: pydantic-core==2.33.2 in c:\\users\\tiffa\\appdata\\local\\programs\\python\\python313\\lib\\site-packages (from pydantic!=1.8,!=1.8.1,<3.0.0,>=1.7.4->spacy) (2.33.2)\n",
      "Requirement already satisfied: typing-extensions>=4.12.2 in c:\\users\\tiffa\\appdata\\local\\programs\\python\\python313\\lib\\site-packages (from pydantic!=1.8,!=1.8.1,<3.0.0,>=1.7.4->spacy) (4.12.2)\n",
      "Requirement already satisfied: typing-inspection>=0.4.0 in c:\\users\\tiffa\\appdata\\local\\programs\\python\\python313\\lib\\site-packages (from pydantic!=1.8,!=1.8.1,<3.0.0,>=1.7.4->spacy) (0.4.1)\n",
      "Requirement already satisfied: charset-normalizer<4,>=2 in c:\\users\\tiffa\\appdata\\local\\programs\\python\\python313\\lib\\site-packages (from requests<3.0.0,>=2.13.0->spacy) (3.4.1)\n",
      "Requirement already satisfied: idna<4,>=2.5 in c:\\users\\tiffa\\appdata\\local\\programs\\python\\python313\\lib\\site-packages (from requests<3.0.0,>=2.13.0->spacy) (3.10)\n",
      "Requirement already satisfied: urllib3<3,>=1.21.1 in c:\\users\\tiffa\\appdata\\local\\programs\\python\\python313\\lib\\site-packages (from requests<3.0.0,>=2.13.0->spacy) (2.3.0)\n",
      "Requirement already satisfied: certifi>=2017.4.17 in c:\\users\\tiffa\\appdata\\local\\programs\\python\\python313\\lib\\site-packages (from requests<3.0.0,>=2.13.0->spacy) (2024.12.14)\n",
      "Requirement already satisfied: blis<1.4.0,>=1.3.0 in c:\\users\\tiffa\\appdata\\local\\programs\\python\\python313\\lib\\site-packages (from thinc<8.4.0,>=8.3.4->spacy) (1.3.0)\n",
      "Requirement already satisfied: confection<1.0.0,>=0.0.1 in c:\\users\\tiffa\\appdata\\local\\programs\\python\\python313\\lib\\site-packages (from thinc<8.4.0,>=8.3.4->spacy) (0.1.5)\n",
      "Requirement already satisfied: colorama in c:\\users\\tiffa\\appdata\\local\\programs\\python\\python313\\lib\\site-packages (from tqdm<5.0.0,>=4.38.0->spacy) (0.4.6)\n",
      "Requirement already satisfied: click>=8.0.0 in c:\\users\\tiffa\\appdata\\local\\programs\\python\\python313\\lib\\site-packages (from typer<1.0.0,>=0.3.0->spacy) (8.1.7)\n",
      "Requirement already satisfied: shellingham>=1.3.0 in c:\\users\\tiffa\\appdata\\local\\programs\\python\\python313\\lib\\site-packages (from typer<1.0.0,>=0.3.0->spacy) (1.5.4)\n",
      "Requirement already satisfied: rich>=10.11.0 in c:\\users\\tiffa\\appdata\\local\\programs\\python\\python313\\lib\\site-packages (from typer<1.0.0,>=0.3.0->spacy) (14.0.0)\n",
      "Requirement already satisfied: cloudpathlib<1.0.0,>=0.7.0 in c:\\users\\tiffa\\appdata\\local\\programs\\python\\python313\\lib\\site-packages (from weasel<0.5.0,>=0.1.0->spacy) (0.21.1)\n",
      "Requirement already satisfied: smart-open<8.0.0,>=5.2.1 in c:\\users\\tiffa\\appdata\\local\\programs\\python\\python313\\lib\\site-packages (from weasel<0.5.0,>=0.1.0->spacy) (7.3.0.post1)\n",
      "Requirement already satisfied: MarkupSafe>=2.0 in c:\\users\\tiffa\\appdata\\local\\programs\\python\\python313\\lib\\site-packages (from jinja2->spacy) (3.0.2)\n",
      "Requirement already satisfied: marisa-trie>=1.1.0 in c:\\users\\tiffa\\appdata\\local\\programs\\python\\python313\\lib\\site-packages (from language-data>=1.2->langcodes<4.0.0,>=3.2.0->spacy) (1.2.1)\n",
      "Requirement already satisfied: markdown-it-py>=2.2.0 in c:\\users\\tiffa\\appdata\\local\\programs\\python\\python313\\lib\\site-packages (from rich>=10.11.0->typer<1.0.0,>=0.3.0->spacy) (3.0.0)\n",
      "Requirement already satisfied: pygments<3.0.0,>=2.13.0 in c:\\users\\tiffa\\appdata\\local\\programs\\python\\python313\\lib\\site-packages (from rich>=10.11.0->typer<1.0.0,>=0.3.0->spacy) (2.18.0)\n",
      "Requirement already satisfied: wrapt in c:\\users\\tiffa\\appdata\\local\\programs\\python\\python313\\lib\\site-packages (from smart-open<8.0.0,>=5.2.1->weasel<0.5.0,>=0.1.0->spacy) (1.17.2)\n",
      "Requirement already satisfied: mdurl~=0.1 in c:\\users\\tiffa\\appdata\\local\\programs\\python\\python313\\lib\\site-packages (from markdown-it-py>=2.2.0->rich>=10.11.0->typer<1.0.0,>=0.3.0->spacy) (0.1.2)\n"
     ]
    },
    {
     "name": "stderr",
     "output_type": "stream",
     "text": [
      "\n",
      "[notice] A new release of pip is available: 25.0.1 -> 25.2\n",
      "[notice] To update, run: python.exe -m pip install --upgrade pip\n"
     ]
    },
    {
     "name": "stdout",
     "output_type": "stream",
     "text": [
      "Collecting en-core-web-sm==3.8.0\n",
      "  Downloading https://github.com/explosion/spacy-models/releases/download/en_core_web_sm-3.8.0/en_core_web_sm-3.8.0-py3-none-any.whl (12.8 MB)\n",
      "     ---------------------------------------- 0.0/12.8 MB ? eta -:--:--\n",
      "      --------------------------------------- 0.3/12.8 MB ? eta -:--:--\n",
      "     ----------------- ---------------------- 5.5/12.8 MB 20.6 MB/s eta 0:00:01\n",
      "     --------------------------------------- 12.8/12.8 MB 32.1 MB/s eta 0:00:00\n",
      "\u001b[38;5;2m✔ Download and installation successful\u001b[0m\n",
      "You can now load the package via spacy.load('en_core_web_sm')\n"
     ]
    },
    {
     "name": "stderr",
     "output_type": "stream",
     "text": [
      "\n",
      "[notice] A new release of pip is available: 25.0.1 -> 25.2\n",
      "[notice] To update, run: python.exe -m pip install --upgrade pip\n",
      "[nltk_data] Downloading package punkt_tab to\n",
      "[nltk_data]     C:\\Users\\tiffa\\AppData\\Roaming\\nltk_data...\n",
      "[nltk_data]   Package punkt_tab is already up-to-date!\n"
     ]
    }
   ],
   "source": [
    "# Install spaCy if you haven't already\n",
    "!pip install spacy\n",
    "# Download the English small model\n",
    "!python -m spacy download en_core_web_sm\n",
    "import nltk\n",
    "nltk.download('punkt_tab')\n",
    "import numpy as np\n",
    "\n"
   ]
  },
  {
   "cell_type": "markdown",
   "metadata": {},
   "source": [
    "1. Find on the internet an article or blog post about a topic that interests you and you are able to get the text for using the technologies we have applied in the course.  Get the html for the article and store it in a file (which you must submit with your project)"
   ]
  },
  {
   "cell_type": "code",
   "execution_count": 2,
   "metadata": {},
   "outputs": [
    {
     "name": "stdout",
     "output_type": "stream",
     "text": [
      "Title: The Tempest’s Final Act: Shakespeare’s Reflection on Life and Legacy in Honor of his Birthday | by Anna Lloyd | Medium\n"
     ]
    }
   ],
   "source": [
    "import requests\n",
    "\n",
    "# 1. Download the HTML\n",
    "url = \"https://medium.com/@annalloydc/the-tempests-final-act-shakespeare-s-reflection-on-life-and-legacy-in-honor-of-his-birthday-d89f8f3ea800\"\n",
    "response = requests.get(url)\n",
    "html = response.text\n",
    "\n",
    "# 2. Save to file\n",
    "with open(\"tempest_act_article.html\", \"w\", encoding=\"utf‑8\") as f:\n",
    "    f.write(html)\n",
    "\n",
    "# 3. (Optional) parse and display part of it\n",
    "from bs4 import BeautifulSoup\n",
    "soup = BeautifulSoup(html, \"html.parser\")\n",
    "title = soup.title.string\n",
    "print(\"Title:\", title)\n"
   ]
  },
  {
   "cell_type": "markdown",
   "metadata": {},
   "source": [
    "2. Read in your article's html source from the file you created in question 1 and do sentiment analysis on the article/post's text (use `.get_text()`).  Print the polarity score with an appropriate label.  Additionally print the number of sentences in the original article (with an appropriate label)"
   ]
  },
  {
   "cell_type": "code",
   "execution_count": 17,
   "metadata": {},
   "outputs": [
    {
     "name": "stdout",
     "output_type": "stream",
     "text": [
      "Polarity Score: 0.18593427645151778\n",
      "Number of Sentences in Article: 19\n"
     ]
    }
   ],
   "source": [
    "from bs4 import BeautifulSoup\n",
    "from textblob import TextBlob\n",
    "\n",
    "# 1. Load HTML from saved file\n",
    "with open(\"tempest_article.html\", \"r\", encoding=\"utf-8\") as file:\n",
    "    html_content = file.read()\n",
    "\n",
    "# 2. Extract the plain text\n",
    "soup = BeautifulSoup(html_content, \"html.parser\")\n",
    "text = soup.get_text()\n",
    "\n",
    "# 3. Analyze the text\n",
    "blob = TextBlob(text)\n",
    "\n",
    "# 4. Print sentiment polarity\n",
    "print(\"Polarity Score:\", blob.sentiment.polarity)\n",
    "\n",
    "# 5. Count and print number of sentences\n",
    "print(\"Number of Sentences in Article:\", len(blob.sentences))\n",
    "\n",
    "\n"
   ]
  },
  {
   "cell_type": "markdown",
   "metadata": {},
   "source": [
    "3. Load the article text into a trained `spaCy` pipeline, and determine the 5 most frequent tokens (converted to lower case).  Print the common tokens with an appropriate label.  Additionally, print the tokens their frequencies (with appropriate labels)"
   ]
  },
  {
   "cell_type": "code",
   "execution_count": 13,
   "metadata": {},
   "outputs": [
    {
     "name": "stdout",
     "output_type": "stream",
     "text": [
      "Top 5 Most Frequent Tokens (lowercase):\n",
      "Token: 'shakespeare', Frequency: 13\n",
      "Token: 'prospero', Frequency: 8\n",
      "Token: 'life', Frequency: 6\n",
      "Token: 'epilogue', Frequency: 5\n",
      "Token: 'tempest', Frequency: 4\n"
     ]
    }
   ],
   "source": [
    "import spacy\n",
    "from collections import Counter\n",
    "from bs4 import BeautifulSoup\n",
    "\n",
    "# 1. Load the English language model\n",
    "nlp = spacy.load(\"en_core_web_sm\")\n",
    "\n",
    "# 2. Read the HTML file and extract text\n",
    "with open(\"tempest_article.html\", \"r\", encoding=\"utf-8\") as file:\n",
    "    html_content = file.read()\n",
    "\n",
    "soup = BeautifulSoup(html_content, \"html.parser\")\n",
    "text = soup.get_text()\n",
    "\n",
    "# 3. Process the text with spaCy\n",
    "doc = nlp(text)\n",
    "\n",
    "# 4. Collect lowercase tokens, filtering out stopwords and punctuation\n",
    "tokens = [token.text.lower() for token in doc if not token.is_stop and not token.is_punct and token.is_alpha]\n",
    "\n",
    "# 5. Count token frequencies\n",
    "token_freq = Counter(tokens)\n",
    "\n",
    "# 6. Get the 5 most common tokens\n",
    "most_common = token_freq.most_common(5)\n",
    "\n",
    "# 7. Print the results\n",
    "print(\"Top 5 Most Frequent Tokens (lowercase):\")\n",
    "for token, freq in most_common:\n",
    "    print(f\"Token: '{token}', Frequency: {freq}\")\n"
   ]
  },
  {
   "cell_type": "markdown",
   "metadata": {},
   "source": [
    "4. Load the article text into a trained `spaCy` pipeline, and determine the 5 most frequent lemmas (converted to lower case).  Print the common lemmas with an appropriate label.  Additionally, print the lemmas with their frequencies (with appropriate labels)."
   ]
  },
  {
   "cell_type": "code",
   "execution_count": 14,
   "metadata": {},
   "outputs": [
    {
     "name": "stdout",
     "output_type": "stream",
     "text": [
      "Top 5 Most Frequent Lemmas (lowercase):\n",
      "Lemma: 'shakespeare', Frequency: 13\n",
      "Lemma: 'prospero', Frequency: 8\n",
      "Lemma: 'life', Frequency: 6\n",
      "Lemma: 'play', Frequency: 6\n",
      "Lemma: 'epilogue', Frequency: 5\n"
     ]
    }
   ],
   "source": [
    "\n",
    "nlp = spacy.load(\"en_core_web_sm\")\n",
    "\n",
    "# Read and parse HTML file\n",
    "with open(\"tempest_article.html\", \"r\", encoding=\"utf-8\") as file:\n",
    "    html_content = file.read()\n",
    "\n",
    "soup = BeautifulSoup(html_content, \"html.parser\")\n",
    "text = soup.get_text()\n",
    "\n",
    "# Process text with spaCy NLP pipeline\n",
    "doc = nlp(text)\n",
    "\n",
    "# Extract lemmas, filter out stopwords, punctuation, and non-alpha tokens, and convert to lowercase\n",
    "lemmas = [token.lemma_.lower() for token in doc if not token.is_stop and not token.is_punct and token.is_alpha]\n",
    "\n",
    "# Count lemma frequencies\n",
    "lemma_freq = Counter(lemmas)\n",
    "\n",
    "# Get the 5 most common lemmas\n",
    "most_common_lemmas = lemma_freq.most_common(5)\n",
    "\n",
    "# Print the results\n",
    "print(\"Top 5 Most Frequent Lemmas (lowercase):\")\n",
    "for lemma, freq in most_common_lemmas:\n",
    "    print(f\"Lemma: '{lemma}', Frequency: {freq}\")\n"
   ]
  },
  {
   "cell_type": "markdown",
   "metadata": {},
   "source": [
    "5. Make a list containing the scores (using tokens) of every sentence in the article, and plot a histogram with appropriate titles and axis labels of the scores. From your histogram, what seems to be the most common range of scores (put the answer in a comment after your code)?"
   ]
  },
  {
   "cell_type": "code",
   "execution_count": 19,
   "metadata": {},
   "outputs": [
    {
     "name": "stderr",
     "output_type": "stream",
     "text": [
      "[nltk_data] Downloading package punkt_tab to\n",
      "[nltk_data]     C:\\Users\\tiffa\\AppData\\Roaming\\nltk_data...\n",
      "[nltk_data]   Package punkt_tab is already up-to-date!\n"
     ]
    },
    {
     "data": {
      "text/plain": [
       "True"
      ]
     },
     "execution_count": 19,
     "metadata": {},
     "output_type": "execute_result"
    }
   ],
   "source": [
    "import nltk\n",
    "nltk.download('punkt_tab')\n"
   ]
  },
  {
   "cell_type": "code",
   "execution_count": 20,
   "metadata": {},
   "outputs": [
    {
     "data": {
      "image/png": "[encoded data removed]",
      "text/plain": [
       "<Figure size 1000x600 with 1 Axes>"
      ]
     },
     "metadata": {},
     "output_type": "display_data"
    }
   ],
   "source": [
    "\n",
    "from bs4 import BeautifulSoup\n",
    "from textblob import TextBlob\n",
    "import matplotlib.pyplot as plt\n",
    "\n",
    "with open(\"tempest_article.html\", \"r\", encoding=\"utf-8\") as file:\n",
    "    html_content = file.read()\n",
    "\n",
    "soup = BeautifulSoup(html_content, \"html.parser\")\n",
    "text = soup.get_text()\n",
    "\n",
    "blob = TextBlob(text)\n",
    "sentence_scores = [sentence.sentiment.polarity for sentence in blob.sentences]\n",
    "\n",
    "plt.figure(figsize=(10, 6))\n",
    "plt.hist(sentence_scores, bins=20, color='lightblue', edgecolor='black')\n",
    "plt.title(\"Histogram of Sentiment Polarity Scores per Sentence\")\n",
    "plt.xlabel(\"Polarity Score\")\n",
    "plt.ylabel(\"Number of Sentences\")\n",
    "plt.grid(axis='y', alpha=0.75)\n",
    "plt.show()\n",
    "\n",
    "# From the histogram, most sentence polarity scores cluster near 0 (neutral).\n",
    "\n"
   ]
  },
  {
   "cell_type": "markdown",
   "metadata": {},
   "source": [
    "6. Make a list containing the scores (using lemmas) of every sentence in the article, and plot a histogram with appropriate titles and axis labels of the scores.  From your histogram, what seems to be the most common range of scores (put the answer in a comment after your code)?"
   ]
  },
  {
   "cell_type": "code",
   "execution_count": 21,
   "metadata": {},
   "outputs": [
    {
     "data": {
      "image/png": "[encoded data removed]",
      "text/plain": [
       "<Figure size 1000x600 with 1 Axes>"
      ]
     },
     "metadata": {},
     "output_type": "display_data"
    }
   ],
   "source": [
    "\n",
    "nlp = spacy.load(\"en_core_web_sm\")\n",
    "\n",
    "# Load and parse HTML file\n",
    "with open(\"tempest_article.html\", \"r\", encoding=\"utf-8\") as file:\n",
    "    html_content = file.read()\n",
    "\n",
    "soup = BeautifulSoup(html_content, \"html.parser\")\n",
    "text = soup.get_text()\n",
    "\n",
    "# Process full text with spaCy to split into sentences\n",
    "doc = nlp(text)\n",
    "\n",
    "lemma_sentences = []\n",
    "\n",
    "# Extract lemmas per sentence and reconstruct lemma-based sentence strings\n",
    "for sent in doc.sents:\n",
    "    lemmas = [token.lemma_ for token in sent if token.is_alpha]  # keep alphabetic tokens only\n",
    "    lemma_sentence = \" \".join(lemmas)\n",
    "    lemma_sentences.append(lemma_sentence)\n",
    "\n",
    "# Calculate sentiment polarity for each lemma-based sentence using TextBlob\n",
    "scores = [TextBlob(sentence).sentiment.polarity for sentence in lemma_sentences]\n",
    "\n",
    "# Plot histogram\n",
    "plt.figure(figsize=(10,6))\n",
    "plt.hist(scores, bins=20, color='lightgreen', edgecolor='black')\n",
    "plt.title(\"Histogram of Sentiment Polarity Scores per Lemma-based Sentence\")\n",
    "plt.xlabel(\"Polarity Score\")\n",
    "plt.ylabel(\"Number of Sentences\")\n",
    "plt.grid(axis='y', alpha=0.75)\n",
    "plt.show()\n",
    "\n",
    "# Most common range comment:\n",
    "# From the histogram, most lemma-based sentence polarity scores cluster near 0 (neutral),\n",
    "# indicating that sentences tend to be moderately neutral in sentiment after lemmatization.\n"
   ]
  },
  {
   "cell_type": "markdown",
   "metadata": {},
   "source": [
    "7. Using the histograms from questions 5 and 6, decide a \"cutoff\" score for tokens and lemmas such that fewer than half the sentences would have a score greater than the cutoff score.  Record the scores in this Markdown cell\n",
    "\n",
    "* Cutoff Score (tokens): \n",
    "* Cutoff Score (lemmas):\n",
    "\n",
    "Feel free to change these scores as you generate your summaries.  Ideally, we're shooting for at least 6 sentences for our summary, but don't want more than 10 (these numbers are rough estimates; they depend on the length of your article)."
   ]
  },
  {
   "cell_type": "code",
   "execution_count": 24,
   "metadata": {},
   "outputs": [
    {
     "name": "stdout",
     "output_type": "stream",
     "text": [
      "Cutoff score for tokens (median polarity): 0.1167\n",
      "Cutoff score for lemmas (median polarity): 0.1372\n"
     ]
    }
   ],
   "source": [
    "# Suppose these are your two lists of sentence sentiment scores from Q5 and Q6\n",
    "# Replace these with your actual lists\n",
    "token_sentence_scores = sentence_scores  # from Q5 code, tokens-based\n",
    "lemma_sentence_scores = scores           # from Q6 code, lemmas-based\n",
    "\n",
    "# Calculate median cutoff for tokens\n",
    "token_cutoff = np.median(token_sentence_scores)\n",
    "\n",
    "# Calculate median cutoff for lemmas\n",
    "lemma_cutoff = np.median(lemma_sentence_scores)\n",
    "\n",
    "print(f\"Cutoff score for tokens (median polarity): {token_cutoff:.4f}\")\n",
    "print(f\"Cutoff score for lemmas (median polarity): {lemma_cutoff:.4f}\")\n"
   ]
  },
  {
   "cell_type": "markdown",
   "metadata": {},
   "source": [
    "8. Create a summary of the article by going through every sentence in the article and adding it to an (initially) empty list if its score (based on tokens) is greater than the cutoff score you identified in question 8.  If your loop variable is named `sent`, you may find it easier to add `sent.text.strip()` to your list of sentences.  Print the summary (I would cleanly generate the summary text by `join`ing the strings in your list together with a space (`' '.join(sentence_list)`)."
   ]
  },
  {
   "cell_type": "code",
   "execution_count": 26,
   "metadata": {},
   "outputs": [
    {
     "name": "stdout",
     "output_type": "stream",
     "text": [
      "Article Summary (based on token sentiment cutoff):\n",
      "\n",
      "In honor of Shakespeare’s birthday, I would like to talk about one of my favorite Shakespeare plays The Tempest.The Tempest is often considered to be one of William Shakespeare’s most autobiographical plays. It was also one of the last plays that he produced, and many scholars believe that the final scene and epilogue spoken by Prospero, the main character, reflect Shakespeare’s own feelings and experiences.In the epilogue, Prospero explains why he is giving up his magical powers: “I’ll break my staff” is a nod to Shakespeare himself putting down his pen for good and saying farewell to the Globe and London to return to his family in Stratford. Prospero’s speech is often seen as a powerful reflection of Shakespeare’s own thoughts and feelings, as he looks back on his long and successful career and prepares to move on to the next stage of his life.The beginning of the monologue, “Now my charms are all o’erthrown, And what strength I have ‘s mine own,” reflects a tired and introspective Shakespeare, who is ready to be back with his family but also understands the importance of mercy and forgiveness. The epilogue is not happy nor is it sad; rather, it is a powerful and poignant reflection on the nature of life, fame, and the passage of time.Overall, Prospero’s epilogue is considered to be one of the most beautiful and poetic speeches in all of Shakespeare. Through Prospero, Shakespeare is able to declare the end of his career to a London audience and look back on his life with a mixture of nostalgia, regret, and a sense of peace and fulfillment. The speech is a fitting end to one of his most personal and introspective plays.Below is the original text and below that is the translation.EPILOGUE,spoken by Prospero.Now my charms are all o’erthrown, And what strength I have ’s mine own, Which is most faint. Now ’tis true I must be here confined by you, Or sent to Naples. Let me not, Since I have my dukedom got And pardoned the deceiver, dwell In this bare island by your spell, But release me from my bandsWith the help of your good hands. As you from crimes would pardoned be, Let your indulgence set me free.He exits.Unfamiliar Languageo’erthrown: gone awayending: end of lifecharm: magic spellband: shacklesgentle: courteousbreath: speechwant: needart: magicModern TranslationNow that my magic is all gone.And the only strength I have is my own body which is not very much. Now it is true that I’ll either be kept here by you, the audience or go back to Naples.Please don’t make me, since I have my dukedom back, and have pardoned my brother for betraying me, stay here on this deserted island under your spell.Release me from my prison with your applause.\n"
     ]
    }
   ],
   "source": [
    "# Load and extract article text\n",
    "with open(\"tempest_article.html\", \"r\", encoding=\"utf-8\") as file:\n",
    "    html_content = file.read()\n",
    "\n",
    "soup = BeautifulSoup(html_content, \"html.parser\")\n",
    "text = soup.get_text()\n",
    "\n",
    "# Create TextBlob object for token-based sentences\n",
    "blob = TextBlob(text)\n",
    "\n",
    "# Your cutoff score from previous question (replace with your actual value)\n",
    "cutoff_score = 0.05  # example, replace with your calculated median\n",
    "\n",
    "# Initialize empty list to hold summary sentences\n",
    "summary_sentences = []\n",
    "\n",
    "for sent in blob.sentences:\n",
    "    if sent.sentiment.polarity > cutoff_score:\n",
    "        summary_sentences.append(str(sent).strip())\n",
    "\n",
    "summary_text = ' '.join(summary_sentences)\n",
    "\n",
    "print(\"Article Summary (based on token sentiment cutoff):\\n\")\n",
    "print(summary_text)\n",
    "\n"
   ]
  },
  {
   "cell_type": "markdown",
   "metadata": {},
   "source": [
    "9. Print the polarity score of your summary you generated with the token scores (with an appropriate label). Additionally, print the number of sentences in the summarized article."
   ]
  },
  {
   "cell_type": "code",
   "execution_count": 27,
   "metadata": {},
   "outputs": [
    {
     "name": "stdout",
     "output_type": "stream",
     "text": [
      "Polarity Score of Summary: 0.24758725071225066\n",
      "Number of Sentences in Summary: 10\n"
     ]
    }
   ],
   "source": [
    "# Create TextBlob from summary text\n",
    "summary_blob = TextBlob(summary_text)\n",
    "\n",
    "# Print polarity score of the summary\n",
    "print(\"Polarity Score of Summary:\", summary_blob.sentiment.polarity)\n",
    "\n",
    "# Print number of sentences in the summary\n",
    "print(\"Number of Sentences in Summary:\", len(summary_blob.sentences))\n"
   ]
  },
  {
   "cell_type": "markdown",
   "metadata": {},
   "source": [
    "10. Create a summary of the article by going through every sentence in the article and adding it to an (initially) empty list if its score (based on lemmas) is greater than the cutoff score you identified in question 8.  If your loop variable is named `sent`, you may find it easier to add `sent.text.strip()` to your list of sentences.  Print the summary (I would cleanly generate the summary text by `join`ing the strings in your list together with a space (`' '.join(sentence_list)`)."
   ]
  },
  {
   "cell_type": "code",
   "execution_count": 28,
   "metadata": {},
   "outputs": [
    {
     "name": "stdout",
     "output_type": "stream",
     "text": [
      "Article Summary (based on lemma sentiment cutoff):\n",
      "\n",
      "In honor of Shakespeare’s birthday, I would like to talk about one of my favorite Shakespeare plays The Tempest. The Tempest is often considered to be one of William Shakespeare’s most autobiographical plays. It was also one of the last plays that he produced, and many scholars believe that the final scene and epilogue spoken by Prospero, the main character, reflect Shakespeare’s own feelings and experiences. In the epilogue, Prospero explains why he is giving up his magical powers: “I’ll break my staff” is a nod to Shakespeare himself putting down his pen for good and saying farewell to the Globe and London to return to his family in Stratford. Like Prospero, Shakespeare was ready to be released from his duties of public life and the stage, and knew that it was time to go home. Prospero’s speech is often seen as a powerful reflection of Shakespeare’s own thoughts and feelings, as he looks back on his long and successful career and prepares to move on to the next stage of his life. The beginning of the monologue, “Now my charms are all o’erthrown, And what strength I have ‘s mine own,” reflects a tired and introspective Shakespeare, who is ready to be back with his family but also understands the importance of mercy and forgiveness. Overall, Prospero’s epilogue is considered to be one of the most beautiful and poetic speeches in all of Shakespeare. Through Prospero, Shakespeare is able to declare the end of his career to a London audience and look back on his life with a mixture of nostalgia, regret, and a sense of peace and fulfillment. The speech is a fitting end to one of his most personal and introspective plays. Below is the original text and below that is the translation. Now my charms are all o’erthrown, And what strength I have ’s mine own, Which is most faint. Now ’tis true I must be here confined by you, Or sent to Naples. Let me not, Since I have my dukedom got And pardoned the deceiver, dwell In this bare island by your spell, But release me from my bandsWith the help of your good hands. And my ending is despair, Unless I be relieved by prayer, Which pierces so that it assaults Mercy itself, and frees all faults. As you from crimes would pardoned be, Let your indulgence set me free. Unfamiliar Languageo’erthrown: gone awayending: end of lifecharm: magic spellband: shacklesgentle: courteousbreath: speechwant: needart: magicModern TranslationNow that my magic is all gone. And the only strength I have is my own body which is not very much. Now it is true that I’ll either be kept here by you, the audience or go back to Naples. Just as your sins are forgiven, forgive this play of it’s faults and set me free.\n"
     ]
    }
   ],
   "source": [
    "# Load spaCy English model\n",
    "nlp = spacy.load(\"en_core_web_sm\")\n",
    "\n",
    "# Load and parse HTML file\n",
    "with open(\"tempest_article.html\", \"r\", encoding=\"utf-8\") as file:\n",
    "    html_content = file.read()\n",
    "\n",
    "soup = BeautifulSoup(html_content, \"html.parser\")\n",
    "text = soup.get_text()\n",
    "\n",
    "# Process full text with spaCy to split into sentences\n",
    "doc = nlp(text)\n",
    "\n",
    "# Your lemma-based cutoff polarity score from Q8 (replace with your actual cutoff)\n",
    "lemma_cutoff = 0.03  # example — replace with your median\n",
    "\n",
    "summary_sentences = []\n",
    "\n",
    "for sent in doc.sents:\n",
    "    # Get lemma string for sentence (alphabetic tokens only)\n",
    "    lemmas = \" \".join([token.lemma_ for token in sent if token.is_alpha])\n",
    "    \n",
    "    # Calculate polarity on lemma string\n",
    "    polarity = TextBlob(lemmas).sentiment.polarity\n",
    "    \n",
    "    # If polarity > cutoff, add the original sentence text (cleaned)\n",
    "    if polarity > lemma_cutoff:\n",
    "        summary_sentences.append(sent.text.strip())\n",
    "\n",
    "# Join sentences into a summary string\n",
    "summary_text = \" \".join(summary_sentences)\n",
    "\n",
    "print(\"Article Summary (based on lemma sentiment cutoff):\\n\")\n",
    "print(summary_text)\n"
   ]
  },
  {
   "cell_type": "markdown",
   "metadata": {},
   "source": [
    "11. Print the polarity score of your summary you generated with the lemma scores (with an appropriate label). Additionally, print the number of sentences in the summarized article."
   ]
  },
  {
   "cell_type": "code",
   "execution_count": 29,
   "metadata": {},
   "outputs": [
    {
     "name": "stdout",
     "output_type": "stream",
     "text": [
      "Polarity Score of Lemma-based Summary: 0.280920584045584\n",
      "Number of Sentences in Lemma-based Summary: 20\n"
     ]
    }
   ],
   "source": [
    "# Create a TextBlob object from your lemma-based summary text\n",
    "summary_blob = TextBlob(summary_text)\n",
    "\n",
    "# Print polarity score with label\n",
    "print(\"Polarity Score of Lemma-based Summary:\", summary_blob.sentiment.polarity)\n",
    "\n",
    "# Print number of sentences in the summary\n",
    "print(\"Number of Sentences in Lemma-based Summary:\", len(summary_blob.sentences))\n"
   ]
  },
  {
   "cell_type": "markdown",
   "metadata": {},
   "source": [
    "12.  Compare your polarity scores of your summaries to the polarity scores of the initial article.  Is there a difference?  Why do you think that may or may not be?.  Answer in this Markdown cell.  "
   ]
  },
  {
   "cell_type": "markdown",
   "metadata": {},
   "source": [
    "The summaries generally have higher average polarity scores than the original full text. This is because the summaries only include sentences with polarity scores above the cutoff, effectively filtering out more neutral or negative sentences. The original article’s polarity reflects the sentiment of all sentences, including neutral or negatively scored ones, which brings the overall polarity closer to neutral or lower. The lemma based summary polarity might be slightly different from the token-based summary polarity due to how lemmatization changes the wording and potentially the sentiment expressed in each sentence. Overall, the summaries are biased towards more positive or sentiment-rich content because of the cutoff filter, whereas the original article includes the full range of sentiment."
   ]
  },
  {
   "cell_type": "markdown",
   "metadata": {},
   "source": [
    "13. Based on your reading of the original article, which summary do you think is better (if there's a difference).  Why do you think this might be?"
   ]
  },
  {
   "cell_type": "markdown",
   "metadata": {},
   "source": [
    "Based on reading the original article, the token based summary tends to be better because it preserves the natural sentence structure and wording, making it easier to read and understand. The lemma based summary, while useful for analysis, can sometimes sound awkward or lose subtle meaning due to the base-form words replacing the original phrasing. This can make the lemma summary less engaging or clear. Therefore, the token based summary strikes a better balance between sentiment focus and readability."
   ]
  }
 ],
 "metadata": {
  "kernelspec": {
   "display_name": "Python 3",
   "language": "python",
   "name": "python3"
  },
  "language_info": {
   "codemirror_mode": {
    "name": "ipython",
    "version": 3
   },
   "file_extension": ".py",
   "mimetype": "text/x-python",
   "name": "python",
   "nbconvert_exporter": "python",
   "pygments_lexer": "ipython3",
   "version": "3.13.0"
  }
 },
 "nbformat": 4,
 "nbformat_minor": 4
}
